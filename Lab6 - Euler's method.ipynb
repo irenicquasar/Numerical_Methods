{
 "cells": [
  {
   "cell_type": "markdown",
   "metadata": {},
   "source": [
    "# Lab6\n"
   ]
  },
  {
   "cell_type": "markdown",
   "metadata": {},
   "source": [
    "**Instructions**\n",
    "\n",
    "(PART1) Q1,2 are related to foward,backward and central difference \n",
    "\n",
    "(Part 2) Q 3,4,5 are related to IVP and euler's method"
   ]
  },
  {
   "cell_type": "code",
   "execution_count": 17,
   "metadata": {},
   "outputs": [],
   "source": [
    "import matplotlib.pyplot as plt\n",
    "import math "
   ]
  },
  {
   "cell_type": "markdown",
   "metadata": {},
   "source": [
    "**Part 1**\n",
    "\n",
    "Given beolow is the general code on how to solve with the questions solved therafter. "
   ]
  },
  {
   "cell_type": "markdown",
   "metadata": {},
   "source": [
    "**Q1.** Use the forward difference formula to approximate the derivative of\n",
    "$f(x) = \\ln x$ at $x_0 = 1.8$ using $h = 0.1$, $h = 0.05$ and $h = 0.01$. Determine\n",
    "the bounds for the approximation errors"
   ]
  },
  {
   "cell_type": "markdown",
   "metadata": {},
   "source": [
    "**Q2.** Redo problem 1 for the backward difference formula and central difference\n",
    "formula."
   ]
  },
  {
   "cell_type": "markdown",
   "metadata": {},
   "source": [
    "**Part 2**\n",
    "\n",
    "Given beolow is the general code on how to solve with the questions solved therafter. "
   ]
  },
  {
   "cell_type": "code",
   "execution_count": 5,
   "metadata": {},
   "outputs": [],
   "source": [
    "#euler's method\n",
    "\n",
    "#function to be solved\n",
    "def function(t,y):\n",
    "    return y-t**2+1\n",
    "\n",
    "#exact solution\n",
    "def y(t):\n",
    "    return (t+1)**2-0.5*math.exp(t)\n",
    "\n",
    "#input\n",
    "#endpints a and b\n",
    "#initial value y(a)=alpha\n",
    "#number of steps N\n",
    "def euler(a,b,alpha,N):\n",
    "    h=(b-a)/N\n",
    "    t=a\n",
    "    w=alpha\n",
    "    for i in range(1,N+1):\n",
    "        w=w+h*function(t,w)\n",
    "        t=a+i*h\n",
    "    return w\n",
    "\n",
    "#to plot the graph\n",
    "def plot(a,b,alpha,N):\n",
    "    h=(b-a)/N\n",
    "    t=a\n",
    "    w=alpha\n",
    "    t_values = [t]\n",
    "    w_values = [w]\n",
    "    for i in range(1,N+1):\n",
    "        w=w+h*function(t,w)\n",
    "        t=a+i*h\n",
    "        t_values.append(t)\n",
    "        w_values.append(w)\n",
    "    plt.plot(t_values, w_values)\n",
    "    plt.scatter(t_values, w_values, color='red')  # This line adds points\n",
    "    plt.show()\n",
    "    return w\n",
    "\n",
    "#to print the table\n",
    "def table(a,b,alpha,N):\n",
    "    h=(b-a)/N\n",
    "    t=a\n",
    "    w=alpha\n",
    "    print(\"t\\tw\")\n",
    "    print(\"%f\\t%f\"%(t,w))\n",
    "    for i in range(1,N+1):\n",
    "        w=w+h*function(t,w)\n",
    "        t=a+i*h\n",
    "        print(\"%f\\t%f\"%(t,w))\n",
    "\n",
    "#to print table with t_i,w_i,y_i,|w_i-y_i|\n",
    "def table2(a,b,alpha,N,y):\n",
    "    h=(b-a)/N\n",
    "    t=a\n",
    "    w=alpha\n",
    "    print(\"t\\tw\\ty\\t|w-y|\")\n",
    "    print(\"%f\\t%f\\t%f\\t%f\"%(t,w,w,0))\n",
    "    for i in range(1,N+1):\n",
    "        w=w+h*function(t,w)\n",
    "        t=a+i*h\n",
    "        y_val=y(t)\n",
    "        print(\"%f\\t%f\\t%f\\t%f\"%(t,w,y_val,abs(w-y_val)))\n",
    "    return  \n",
    "\n",
    "#to print the table with actual value and approximate value\n",
    "def plot2(a,b,alpha,N,y):\n",
    "    h=(b-a)/N\n",
    "    t=a\n",
    "    w=alpha\n",
    "    t_values = [t]\n",
    "    w_values = [w]\n",
    "    y_values = [y(t)]\n",
    "    for i in range(1,N+1):\n",
    "        w=w+h*function(t,w)\n",
    "        t=a+i*h\n",
    "        t_values.append(t)\n",
    "        w_values.append(w)\n",
    "        y_values.append(y(t))\n",
    "    plt.plot(t_values, w_values)\n",
    "    plt.scatter(t_values, w_values, color='red')  # This line adds points\n",
    "    plt.plot(t_values, y_values)\n",
    "    plt.scatter(t_values, y_values, color='green')  # This line adds points\n",
    "    plt.show()\n",
    "    return w\n",
    "\n",
    "#to print all the values and graphs\n",
    "def print_all():\n",
    "    print(\"Euler's method\")\n",
    "    print(\"Approximate value: \",euler(a,b,alpha,N))\n",
    "    print(\"Actual value: \",y(b))\n",
    "    print(\"Table\")\n",
    "    table(a,b,alpha,N)\n",
    "    print(\"Table with actual value and error\")\n",
    "    table2(a,b,alpha,N,y)\n",
    "    print(\"Graph\")\n",
    "    plot(a,b,alpha,N)\n",
    "    print(\"Graph with actual value and approximate value\")\n",
    "    plot2(a,b,alpha,N,y)\n",
    "    \n"
   ]
  },
  {
   "cell_type": "code",
   "execution_count": null,
   "metadata": {},
   "outputs": [],
   "source": [
    "\n",
    "#example \n",
    "#y'=y-t^2+1\n",
    "#y(0)=0.5\n",
    "#y(t)=(t+1)^2-0.5e^t\n",
    "#N=10\n",
    "\n",
    "a=0\n",
    "b=2\n",
    "alpha=0.5\n",
    "N=10\n",
    "#function to be solved\n",
    "def function(t,y):\n",
    "    return y-t**2+1\n",
    "\n",
    "#exact solution\n",
    "def y(t):\n",
    "    return (t+1)**2-0.5*math.exp(t)\n",
    "print_all()"
   ]
  },
  {
   "cell_type": "markdown",
   "metadata": {},
   "source": [
    "**Q3.** Consider the IVP,\n",
    "\n",
    " $y' =\\frac{y \\log y}{x}$ , $y(2) = e$\n",
    "\n",
    " Use Euler's method with $h=0.1$ to obtain approximation to $y(3)$."
   ]
  },
  {
   "cell_type": "code",
   "execution_count": null,
   "metadata": {},
   "outputs": [],
   "source": [
    "a=2\n",
    "b=3\n",
    "alpha= math.e\n",
    "N=10\n",
    "#function to be solved\n",
    "def function(t,y):\n",
    "    return (y * math.log(y)) / t\n",
    "\n",
    "#exact solution\n",
    "def y(t):\n",
    "    return math.exp(t/2)\n",
    "print_all()\n"
   ]
  },
  {
   "cell_type": "markdown",
   "metadata": {},
   "source": [
    "**Q4.** Consider the IVP\n",
    "\n",
    "$y' = y-x$, $y(0) = \\frac{1}{2}$\n",
    "\n",
    "Use Euler’s method with $h = 0.1$ and $h = 0.05$ to obtain the approximation\n",
    "to $y(1)$. Given that the exact solution to the IVP is \n",
    "\n",
    "$y(x) =x+1 -\\frac{e^x}{2}$\n",
    "\n",
    "compare the errors in the two approximations to $y(1)$."
   ]
  },
  {
   "cell_type": "code",
   "execution_count": null,
   "metadata": {},
   "outputs": [],
   "source": [
    "a=0\n",
    "b=1\n",
    "alpha=0.5\n",
    "N=20\n",
    "#function to be solved\n",
    "def function(t,y):\n",
    "    return y-t\n",
    "#exact solution\n",
    "def y(t):\n",
    "    return t+1-math.exp(t)/2\n",
    "print_all()"
   ]
  },
  {
   "cell_type": "markdown",
   "metadata": {},
   "source": [
    "**Q5.** Consider the IVP\n",
    "\n",
    "$y'=2xy^2$, $y(0) = 0.5$\n",
    "\n",
    "Use Euler’s method with $h = 0.1$ to obtain the approximation to $y(1)$."
   ]
  },
  {
   "cell_type": "code",
   "execution_count": null,
   "metadata": {},
   "outputs": [],
   "source": [
    "a=0\n",
    "b=1\n",
    "alpha=0.5\n",
    "N=10\n",
    "#function to be solved\n",
    "def function(t,y):\n",
    "    return 2*t*y**2\n",
    "#exact solution\n",
    "def y(t):\n",
    "    return -1/(t**2-2)\n",
    "print_all()"
   ]
  }
 ],
 "metadata": {
  "kernelspec": {
   "display_name": "Python 3",
   "language": "python",
   "name": "python3"
  },
  "language_info": {
   "codemirror_mode": {
    "name": "ipython",
    "version": 3
   },
   "file_extension": ".py",
   "mimetype": "text/x-python",
   "name": "python",
   "nbconvert_exporter": "python",
   "pygments_lexer": "ipython3",
   "version": "3.10.0"
  }
 },
 "nbformat": 4,
 "nbformat_minor": 2
}
