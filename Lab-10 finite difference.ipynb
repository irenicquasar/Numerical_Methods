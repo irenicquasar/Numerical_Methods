{
 "cells": [
  {
   "cell_type": "markdown",
   "metadata": {},
   "source": [
    "# Lab 10\n",
    "~Rohit R Jorige"
   ]
  },
  {
   "cell_type": "code",
   "execution_count": 35,
   "metadata": {},
   "outputs": [],
   "source": [
    "#libraries\n",
    "import math\n",
    "import matplotlib.pyplot as plt\n",
    "import numpy as np # only used to plot the graph\n"
   ]
  },
  {
   "cell_type": "code",
   "execution_count": 4,
   "metadata": {},
   "outputs": [],
   "source": [
    "#gauss seidel method without using numpy\n",
    "def norm(x):\n",
    "    return max(x)\n",
    "def subtract_list_elem(a,b):\n",
    "    ans=[]\n",
    "    for i in range(len(a)):\n",
    "        ans.append(a[i]-b[i])\n",
    "    return ans\n",
    "def summation_seidel(A, i, curr_x, new_x):\n",
    "    final_sum = 0\n",
    "    for j in range(0, i):\n",
    "        final_sum += new_x[j] * A[i][j]\n",
    "    for j in range(i+1, len(A[i])):\n",
    "        final_sum += curr_x[j] * A[i][j]\n",
    "    return final_sum\n",
    "\n",
    "def Seidel_alt(A, b, x, tol):\n",
    "    prev_x = x\n",
    "    curr_x = x\n",
    "    while True:\n",
    "        new_x = []\n",
    "        for i in range(len(A)):\n",
    "            x_i = (b[i] - summation_seidel(A, i, curr_x, new_x)) / A[i][i]\n",
    "            new_x.append(x_i)\n",
    "        if norm(subtract_list_elem(new_x, curr_x)) / norm(new_x) < tol:\n",
    "            return new_x\n",
    "        curr_x = new_x"
   ]
  },
  {
   "cell_type": "code",
   "execution_count": 5,
   "metadata": {},
   "outputs": [],
   "source": [
    "#general finite difference method\n",
    "#inputs : endpoints (a,b) , boundary conditions (y(a),y(b)) , integrer N>=2, differential equation(p(x),q(x),r(x))\n",
    "#ouput : approximations w_i to y(x_i) for each i = 0, 1, ... , N + 1\n",
    "#the differential equation is of the form y' = p(x)y' + q(x)y + r(x)\n",
    "def construct_matrix(N):\n",
    "    matrix_A=[]\n",
    "    matrix_B=[]\n",
    "    matrix_X=[]\n",
    "    for i in range(N):\n",
    "        matrix_A.append([])\n",
    "        matrix_B.append(0)\n",
    "        matrix_X.append(0)\n",
    "    for  i in range(N):\n",
    "        for j in range(N):\n",
    "            matrix_A[i].append(0)\n",
    "    return matrix_A,matrix_B,matrix_X\n",
    "def finite_difference(a,b,alpha,beta,N,p,q,r):\n",
    "    matrix_A,matrix_B,matrix_X=construct_matrix(N)\n",
    "    h=(b-a)/(N+1)\n",
    "    x=a+h\n",
    "    #calculating  all x_1 values\n",
    "    a_1=2 + (h**2)*q(x)\n",
    "    b_1= -1 + (h/2)*p(x)\n",
    "    d_1=-(h**2)*r(x) + (1 + (h/2)*p(x))*alpha\n",
    "    matrix_A[0][0]=a_1\n",
    "    matrix_A[0][1]=b_1\n",
    "    matrix_B[0]=d_1\n",
    "    #calculating all x_i values from 2 to N-1\n",
    "    for i in range(1,N-1):\n",
    "        x=a+(i+1)*h\n",
    "        a_i= -1 - (h/2)*p(x)\n",
    "        b_i=  2 + (h**2)*q(x)\n",
    "        c_i= -1 + (h/2)*p(x)\n",
    "        d_i=-(h**2)*r(x)\n",
    "        matrix_A[i][i-1]=a_i\n",
    "        matrix_A[i][i]=b_i\n",
    "        matrix_A[i][i+1]=c_i\n",
    "        matrix_B[i]=d_i\n",
    "    #calculating  all x_N values\n",
    "    x=b-h\n",
    "    a_N= -1 - (h/2)*p(x)\n",
    "    b_N=  2 + (h**2)*q(x)\n",
    "    d_N=  -(h**2)*r(x) + (1 - (h/2)*p(x))*beta\n",
    "    matrix_A[N-1][-2]=a_N\n",
    "    matrix_A[N-1][-1]=b_N\n",
    "    matrix_B[-1]=d_N\n",
    "    #print(\"Matrix A is\",matrix_A)\n",
    "    #print(\"Matrix B is\",matrix_B)\n",
    "    return Seidel_alt(matrix_A,matrix_B,matrix_X,0.00000000001)"
   ]
  },
  {
   "cell_type": "markdown",
   "metadata": {},
   "source": [
    "**Q1.** Use the Linear Finite-Difference Algorithm with N = 9 to approximate the solution to the\n",
    "boundary value problem,\n",
    "\n",
    "$y^{\"} = -\\frac{2}{x}y^{'} +\\frac{2}{x^2}y+\\frac{sin(\\ln x)}{x^2}$\n",
    "\n",
    "$1 \\leq x \\leq 2$ , $y(1) = 1$ , $y(2) = 2$\n",
    "\n",
    "and compare the results to those obtained using the linear shooting method for the same problem.\n"
   ]
  },
  {
   "cell_type": "code",
   "execution_count": 6,
   "metadata": {},
   "outputs": [
    {
     "name": "stdout",
     "output_type": "stream",
     "text": [
      "1.0926005206437606\n",
      "1.187043128668555\n",
      "1.2833368700615362\n",
      "1.3814020460698797\n",
      "1.4811202619640589\n",
      "1.5823598955678606\n",
      "1.6849890182890201\n",
      "1.788881746131507\n",
      "1.893921099127733\n"
     ]
    }
   ],
   "source": [
    "def p(x):\n",
    "    ans=-2/x\n",
    "    return ans\n",
    "def q(x):\n",
    "    ans=2/(x**2)\n",
    "    return ans\n",
    "def r(x):\n",
    "    ans= (math.sin(math.log(x)))/x**2\n",
    "    return ans\n",
    "solution=finite_difference(1,2,1,2,9,p,q,r)\n",
    "for i in solution:\n",
    "    print(i)"
   ]
  },
  {
   "cell_type": "markdown",
   "metadata": {},
   "source": [
    "**Q2.** Consider the boundary value problem\n",
    "\n",
    "$y^{\"}=-(x+1)y^{'}+2y+(1-x^2)e^{-x}$\n",
    "\n",
    "$0 \\leq x \\leq 1$ , $y(0) = 1$ , $y(1) = 0$\n",
    "\n",
    "Use N = 9 and N = 19 respectively and apply the Linear Finite-Difference Algorithm with N = 9\n",
    "to approximate the solution to the above boundary value problem\n"
   ]
  },
  {
   "cell_type": "code",
   "execution_count": 38,
   "metadata": {},
   "outputs": [
    {
     "name": "stdout",
     "output_type": "stream",
     "text": [
      "The solution for N=9 is \n",
      "0.7637068009927273\n",
      "0.5750195530328508\n",
      "0.4259574711601672\n",
      "0.3094199581908733\n",
      "0.21917622033641565\n",
      "0.14983393833148204\n",
      "0.09679150666215999\n",
      "0.05617822574757339\n",
      "0.024786540568339992\n",
      "The solution for N=19 is \n",
      "0.8754842088255258\n",
      "0.7639151932535033\n",
      "0.6642151260394605\n",
      "0.5753604387711247\n",
      "0.4963824866922035\n",
      "0.42636778191720764\n",
      "0.3644578288912448\n",
      "0.30984859700629647\n",
      "0.2617896659160541\n",
      "0.21958307930777204\n",
      "0.18258194271113576\n",
      "0.15018880037577106\n",
      "0.12185382536047765\n",
      "0.09707285578216729\n",
      "0.07538530870738477\n",
      "0.05637200147277722\n",
      "0.03965290833267316\n",
      "0.02488487829202604\n",
      "0.011759337830834283\n"
     ]
    },
    {
     "data": {
      "image/png": "[encoded data removed]",
      "text/plain": [
       "<Figure size 640x480 with 1 Axes>"
      ]
     },
     "metadata": {},
     "output_type": "display_data"
    }
   ],
   "source": [
    "def p(x):\n",
    "    ans=-x-1\n",
    "    return ans\n",
    "def q(x):\n",
    "    ans=2\n",
    "    return ans\n",
    "def r(x):\n",
    "    ans= (1-x**2)*math.exp(-x)\n",
    "    return ans\n",
    "N=9\n",
    "solution1=finite_difference(0,1,1,0,N,p,q,r)\n",
    "x_values1 = np.linspace(0, (math.pi)/4, N+2)[1:-1] \n",
    "print(\"The solution for N={} is \".format(N))\n",
    "for i in solution1:\n",
    "    print(i)\n",
    "\n",
    "N=19\n",
    "solution2=finite_difference(0,1,1,0,N,p,q,r)\n",
    "x_values2 = np.linspace(0, (math.pi)/4, N+2)[1:-1] \n",
    "print(\"The solution for N={} is \".format(N))\n",
    "for i in solution2:\n",
    "    print(i)\n",
    "\n",
    "plt.plot(x_values1, solution1, 'o-', label='N=9')\n",
    "plt.plot(x_values2, solution2, 'o-', label='N=19')\n",
    "plt.legend()\n",
    "plt.show()"
   ]
  },
  {
   "cell_type": "markdown",
   "metadata": {},
   "source": [
    "**Q3.** Use the Linear Finite-Difference Algorithm with N = 4 to approximate the solution of the\n",
    "boundary value problem\n",
    "\n",
    "$y^{\"}+4y=cos(x)$\n",
    "\n",
    "$0 \\leq x \\leq \\frac{\\pi}{4}$ , $y(0) = 0$ , $y(\\frac{\\pi}{4}) = 0$\n",
    "\n",
    "and compare the results to the actual solution where the actual solution is given by\n",
    "\n",
    "$y(x)=-\\frac{1}{3}cos(2x) -\\frac{\\sqrt 2}{6}sin(2x)+\\frac{1}{3}cos(x)$"
   ]
  },
  {
   "cell_type": "code",
   "execution_count": 30,
   "metadata": {},
   "outputs": [
    {
     "name": "stdout",
     "output_type": "stream",
     "text": [
      "The solution for N=4 is \n",
      "-0.06141844977636928\n",
      "-0.09240490854870977\n",
      "-0.09080498945392074\n",
      "-0.058258272342832616\n",
      "The real solution for N=4 is \n",
      "0.0\n",
      "-0.07123076739371831\n",
      "-0.09440908289175365\n",
      "-0.06816510083357769\n",
      "-2.7755575615628914e-17\n",
      "0.0\n"
     ]
    },
    {
     "data": {
      "image/png": "[encoded data removed]",
      "text/plain": [
       "<Figure size 640x480 with 1 Axes>"
      ]
     },
     "metadata": {},
     "output_type": "display_data"
    }
   ],
   "source": [
    "def p(x):\n",
    "    ans=0\n",
    "    return ans\n",
    "def q(x):\n",
    "    ans=-4\n",
    "    return ans\n",
    "def r(x):\n",
    "    ans= math.cos(x)\n",
    "    return ans\n",
    "def real_solution(a,b,N):\n",
    "    solution=[]\n",
    "    solution.append(-math.cos(2*a)/3 -(math.sqrt(2)*math.sin(2*a))/6 +math.cos(a)/3)\n",
    "    h=(b-a)/N\n",
    "    for k in range(1,N+1):\n",
    "        x=a+h*k\n",
    "        ans=-math.cos(2*x)/3 -(math.sqrt(2)*math.sin(2*x))/6 +math.cos(x)/3\n",
    "        solution.append(ans)\n",
    "    solution.append(-math.cos(2*a)/3 -(math.sqrt(2)*math.sin(2*a))/6 +math.cos(a)/3)\n",
    "    return solution\n",
    "\n",
    "N=4\n",
    "#finite difference function is called here\n",
    "solution1=finite_difference(0,(math.pi)/4,0,0,N,p,q,r)\n",
    "x_values1 = np.linspace(0, (math.pi)/4, N+2)[1:-1] \n",
    "print(\"The solution for N={} is \".format(N))\n",
    "for i in solution1:\n",
    "    print(i)\n",
    "#real solution fuction is called here\n",
    "solution2=real_solution(0,(math.pi)/4,N)\n",
    "x_values2 = np.linspace(0, (math.pi)/4, N+2) \n",
    "print(\"The real solution for N={} is \".format(N))\n",
    "for i in solution2:\n",
    "    print(i)\n",
    "\n",
    "plt.plot(x_values1, solution1, 'o-', label='approx sol')\n",
    "plt.plot(x_values2, solution2, 'o-', label='real solution')\n",
    "plt.legend()\n",
    "plt.show()"
   ]
  }
 ],
 "metadata": {
  "kernelspec": {
   "display_name": "Python 3",
   "language": "python",
   "name": "python3"
  },
  "language_info": {
   "codemirror_mode": {
    "name": "ipython",
    "version": 3
   },
   "file_extension": ".py",
   "mimetype": "text/x-python",
   "name": "python",
   "nbconvert_exporter": "python",
   "pygments_lexer": "ipython3",
   "version": "3.10.0"
  }
 },
 "nbformat": 4,
 "nbformat_minor": 2
}
